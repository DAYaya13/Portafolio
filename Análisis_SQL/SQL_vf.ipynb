{
 "cells": [
  {
   "cell_type": "markdown",
   "id": "22cc6d38-8b23-4efa-9c8b-eed489a5beee",
   "metadata": {},
   "source": [
    "# Proyecto SQL"
   ]
  },
  {
   "cell_type": "markdown",
   "id": "7106e412-1c37-49f6-8121-47d50b7df1ec",
   "metadata": {},
   "source": [
    "El coronavirus tomó al mundo entero por sorpresa, cambiando la rutina diaria de todos y todas. Los habitantes de las ciudades ya no pasaban su tiempo libre fuera, yendo a cafés y centros comerciales; sino que más gente se quedaba en casa, leyendo libros. Eso atrajo la atención de las startups (empresas emergentes) que se apresuraron a desarrollar nuevas aplicaciones para los amantes de los libros.\n",
    "\n",
    "Te han dado una base de datos de uno de los servicios que compiten en este mercado. Contiene datos sobre libros, editoriales, autores y calificaciones de clientes y reseñas de libros. Esta información se utilizará para generar una propuesta de valor para un nuevo producto."
   ]
  },
  {
   "cell_type": "markdown",
   "id": "7446157f-79c1-47f9-af9c-dd4d2227201e",
   "metadata": {},
   "source": [
    "### Diccionario de Datos "
   ]
  },
  {
   "cell_type": "markdown",
   "id": "8d769f79-d3ab-405b-84b3-b3bfa890f70a",
   "metadata": {},
   "source": [
    "**`books`**\n",
    "\n",
    "Contiene datos sobre libros:\n",
    "\n",
    "- `book_id`: identificación del libro\n",
    "- `author_id`: identificación del autor o autora\n",
    "- `title`: título\n",
    "- `num_pages`: número de páginas\n",
    "- `publication_date`: fecha de la publicación\n",
    "- `publisher_id`: identificación de la editorial"
   ]
  },
  {
   "cell_type": "markdown",
   "id": "995a6486-bc5c-42ac-a79a-6ede58579479",
   "metadata": {},
   "source": [
    "**`authors`**\n",
    "\n",
    "Contiene datos sobre autores:\n",
    "\n",
    "- `author_id`: identificación del autor o autora\n",
    "- `author`: el autor o la autora"
   ]
  },
  {
   "cell_type": "markdown",
   "id": "dbe97cc6-4ba7-4f7a-ae13-ffc63e10b16c",
   "metadata": {},
   "source": [
    "**`publishers`**\n",
    "\n",
    "Contiene datos sobre editoriales:\n",
    "\n",
    "- `publisher_id`: identificación de la editorial\n",
    "- `publisher`: la editorial"
   ]
  },
  {
   "cell_type": "markdown",
   "id": "e87e6124-c6ef-4962-abe1-a44b29a32c7a",
   "metadata": {},
   "source": [
    "**`ratings`**\n",
    "\n",
    "Contiene datos sobre las calificaciones de usuarios:\n",
    "\n",
    "- `rating_id`: identificación de la calificación\n",
    "- `book_id`: identificación del libro\n",
    "- `username`: el nombre del usuario que revisó el libro\n",
    "- `rating`: calificación"
   ]
  },
  {
   "cell_type": "markdown",
   "id": "7b20ea3a-3528-4138-afc5-fed06f103861",
   "metadata": {},
   "source": [
    "**`reviews`**\n",
    "\n",
    "Contiene datos sobre las reseñas de los y las clientes:\n",
    "\n",
    "- `review_id`: identificación de la reseña\n",
    "- `book_id`: identificación del libro\n",
    "- `username`: el nombre del usuario que revisó el libro\n",
    "- `text`: el texto de la reseña"
   ]
  },
  {
   "cell_type": "markdown",
   "id": "59a99ab5-6074-428d-b0b0-72679534a017",
   "metadata": {},
   "source": [
    "### Describe los objetivos del estudio."
   ]
  },
  {
   "cell_type": "markdown",
   "id": "af2befb9-9d1f-48eb-bd7d-afff7fa67848",
   "metadata": {},
   "source": [
    "**Número de libros publicados después del 1 de enero de 2000:** Conocer uántos libros se han publicado después de esta fecha para entender la tendencia de publicaciones en el siglo XXI.\n",
    "\n",
    "**Número de reseñas y calificación promedio por libro:** Analizar la interacción de los usuarios con los libros, midiendo cuántas reseñas han recibido y cuál es la calificación promedio.\n",
    "\n",
    "**Editorial con más libros publicados con más de 50 páginas:** Queremos identificar la editorial más activa en la publicación de libros sustanciales, excluyendo folletos y publicaciones cortas.\n",
    "\n",
    "**Autor con la más alta calificación promedio en libros con al menos 50 calificaciones:** Encontrar al autor más valorado por los lectores, considerando solo libros con un número significativo de calificaciones.\n",
    "\n",
    "**Número promedio de reseñas de texto entre usuarios que calificaron más de 50 libros:** Entender el comportamiento de los usuarios más activos, midiendo cuántas reseñas de texto suelen hacer."
   ]
  },
  {
   "cell_type": "markdown",
   "id": "f502ed78-c7c6-458f-9c3d-65f1c7afb672",
   "metadata": {},
   "source": [
    "### Conexión a la Base de Datos"
   ]
  },
  {
   "cell_type": "code",
   "execution_count": 1,
   "id": "aaa3cc33-d4d2-4567-97b3-344ac363b8ed",
   "metadata": {},
   "outputs": [
    {
     "name": "stdout",
     "output_type": "stream",
     "text": [
      "Error al conectar: name 'pd' is not defined\n"
     ]
    }
   ],
   "source": [
    "# Verificar la conexión\n",
    "try:\n",
    "    query = \"SELECT version();\"  # Consulta simple para verificar la conexión\n",
    "    df = pd.read_sql_query(query, con=engine)\n",
    "    print(\"Conexión exitosa. Versión de PostgreSQL:\")\n",
    "    print(df)\n",
    "except Exception as e:\n",
    "    print(f\"Error al conectar: {e}\")"
   ]
  },
  {
   "cell_type": "code",
   "execution_count": 2,
   "id": "0c7221ec-97e4-47ec-aa46-0ef285a93b3e",
   "metadata": {},
   "outputs": [],
   "source": [
    "# Importar librerías\n",
    "import pandas as pd\n",
    "from sqlalchemy import create_engine\n",
    "\n",
    "# Configuración de la base de datos\n",
    "db_config = {\n",
    "    'user': 'practicum_student',         # Nombre de usuario\n",
    "    'pwd': 's65BlTKV3faNIGhmvJVzOqhs',  # Contraseña\n",
    "    'host': 'rc1b-wcoijxj3yxfsf3fs.mdb.yandexcloud.net',  # Host\n",
    "    'port': 6432,                        # Puerto\n",
    "    'db': 'data-analyst-final-project-db' # Nombre de la base de datos\n",
    "}\n",
    "\n",
    "# Crear la cadena de conexión\n",
    "connection_string = f\"postgresql://{db_config['user']}:{db_config['pwd']}@{db_config['host']}:{db_config['port']}/{db_config['db']}\"\n",
    "\n",
    "# Crear el motor de SQLAlchemy\n",
    "engine = create_engine(connection_string, connect_args={'sslmode': 'require'})"
   ]
  },
  {
   "cell_type": "markdown",
   "id": "b799a90b-5735-43a5-a8e4-29685445ffe1",
   "metadata": {},
   "source": [
    "### Estudia las tablas (imprime las primeras filas)."
   ]
  },
  {
   "cell_type": "code",
   "execution_count": 3,
   "id": "793694c6-4b23-4a7b-b674-2dc0bc34d04f",
   "metadata": {},
   "outputs": [
    {
     "name": "stdout",
     "output_type": "stream",
     "text": [
      "Tablas disponibles en la base de datos:\n",
      "           table_name\n",
      "0  advertisment_costs\n",
      "1             authors\n",
      "2               books\n",
      "3           check_avg\n",
      "4              orders\n",
      "5          publishers\n",
      "6             ratings\n",
      "7             reviews\n",
      "8              visits\n"
     ]
    }
   ],
   "source": [
    "# Listar las tablas disponibles\n",
    "query_tables = \"SELECT table_name FROM information_schema.tables WHERE table_schema = 'public';\"\n",
    "tables = pd.read_sql_query(query_tables, con=engine)\n",
    "print(\"Tablas disponibles en la base de datos:\")\n",
    "print(tables)"
   ]
  },
  {
   "cell_type": "code",
   "execution_count": 4,
   "id": "f0d527ea-0b3d-4128-9380-726eeccfbe68",
   "metadata": {},
   "outputs": [],
   "source": [
    "# funcion para explorar las tablas\n",
    "def explorar(nombre_tabla, limite=5):\n",
    "    try:\n",
    "        consulta = f\"SELECT * FROM {nombre_tabla} LIMIT {limite};\"\n",
    "        datos_originales = pd.read_sql(consulta, con=engine)\n",
    "        return datos_originales\n",
    "    except Exception as e:\n",
    "        print(f\"Error al explorar la tabla {nombre_tabla}: {e}\")\n",
    "        return None"
   ]
  },
  {
   "cell_type": "code",
   "execution_count": 5,
   "id": "44c2cc64-191d-42bb-83b8-901af6ccea7b",
   "metadata": {},
   "outputs": [],
   "source": [
    "# funcion para imprimir los resultados de la consulta \n",
    "def imprimir_resultados(consulta):\n",
    "    try:\n",
    "        resultados = pd.read_sql(consulta, con=engine)\n",
    "        print(resultados)\n",
    "    except Exception as e:\n",
    "        print(f\"Error al ejecutar la consulta: {e}\")"
   ]
  },
  {
   "cell_type": "code",
   "execution_count": 6,
   "id": "b6b9a8a3-ebed-44b7-8ff3-61abb9341a89",
   "metadata": {},
   "outputs": [
    {
     "data": {
      "text/html": [
       "<div>\n",
       "<style scoped>\n",
       "    .dataframe tbody tr th:only-of-type {\n",
       "        vertical-align: middle;\n",
       "    }\n",
       "\n",
       "    .dataframe tbody tr th {\n",
       "        vertical-align: top;\n",
       "    }\n",
       "\n",
       "    .dataframe thead th {\n",
       "        text-align: right;\n",
       "    }\n",
       "</style>\n",
       "<table border=\"1\" class=\"dataframe\">\n",
       "  <thead>\n",
       "    <tr style=\"text-align: right;\">\n",
       "      <th></th>\n",
       "      <th>book_id</th>\n",
       "      <th>author_id</th>\n",
       "      <th>title</th>\n",
       "      <th>num_pages</th>\n",
       "      <th>publication_date</th>\n",
       "      <th>publisher_id</th>\n",
       "    </tr>\n",
       "  </thead>\n",
       "  <tbody>\n",
       "    <tr>\n",
       "      <th>0</th>\n",
       "      <td>1</td>\n",
       "      <td>546</td>\n",
       "      <td>'Salem's Lot</td>\n",
       "      <td>594</td>\n",
       "      <td>2005-11-01</td>\n",
       "      <td>93</td>\n",
       "    </tr>\n",
       "    <tr>\n",
       "      <th>1</th>\n",
       "      <td>2</td>\n",
       "      <td>465</td>\n",
       "      <td>1 000 Places to See Before You Die</td>\n",
       "      <td>992</td>\n",
       "      <td>2003-05-22</td>\n",
       "      <td>336</td>\n",
       "    </tr>\n",
       "    <tr>\n",
       "      <th>2</th>\n",
       "      <td>3</td>\n",
       "      <td>407</td>\n",
       "      <td>13 Little Blue Envelopes (Little Blue Envelope...</td>\n",
       "      <td>322</td>\n",
       "      <td>2010-12-21</td>\n",
       "      <td>135</td>\n",
       "    </tr>\n",
       "    <tr>\n",
       "      <th>3</th>\n",
       "      <td>4</td>\n",
       "      <td>82</td>\n",
       "      <td>1491: New Revelations of the Americas Before C...</td>\n",
       "      <td>541</td>\n",
       "      <td>2006-10-10</td>\n",
       "      <td>309</td>\n",
       "    </tr>\n",
       "    <tr>\n",
       "      <th>4</th>\n",
       "      <td>5</td>\n",
       "      <td>125</td>\n",
       "      <td>1776</td>\n",
       "      <td>386</td>\n",
       "      <td>2006-07-04</td>\n",
       "      <td>268</td>\n",
       "    </tr>\n",
       "  </tbody>\n",
       "</table>\n",
       "</div>"
      ],
      "text/plain": [
       "   book_id  author_id                                              title  \\\n",
       "0        1        546                                       'Salem's Lot   \n",
       "1        2        465                 1 000 Places to See Before You Die   \n",
       "2        3        407  13 Little Blue Envelopes (Little Blue Envelope...   \n",
       "3        4         82  1491: New Revelations of the Americas Before C...   \n",
       "4        5        125                                               1776   \n",
       "\n",
       "   num_pages publication_date  publisher_id  \n",
       "0        594       2005-11-01            93  \n",
       "1        992       2003-05-22           336  \n",
       "2        322       2010-12-21           135  \n",
       "3        541       2006-10-10           309  \n",
       "4        386       2006-07-04           268  "
      ]
     },
     "execution_count": 6,
     "metadata": {},
     "output_type": "execute_result"
    }
   ],
   "source": [
    "books = 'books'\n",
    "explorar(books)"
   ]
  },
  {
   "cell_type": "code",
   "execution_count": 7,
   "id": "bb973f7c-4dfc-4d87-9a5e-a92479467833",
   "metadata": {},
   "outputs": [
    {
     "data": {
      "text/html": [
       "<div>\n",
       "<style scoped>\n",
       "    .dataframe tbody tr th:only-of-type {\n",
       "        vertical-align: middle;\n",
       "    }\n",
       "\n",
       "    .dataframe tbody tr th {\n",
       "        vertical-align: top;\n",
       "    }\n",
       "\n",
       "    .dataframe thead th {\n",
       "        text-align: right;\n",
       "    }\n",
       "</style>\n",
       "<table border=\"1\" class=\"dataframe\">\n",
       "  <thead>\n",
       "    <tr style=\"text-align: right;\">\n",
       "      <th></th>\n",
       "      <th>author_id</th>\n",
       "      <th>author</th>\n",
       "    </tr>\n",
       "  </thead>\n",
       "  <tbody>\n",
       "    <tr>\n",
       "      <th>0</th>\n",
       "      <td>1</td>\n",
       "      <td>A.S. Byatt</td>\n",
       "    </tr>\n",
       "    <tr>\n",
       "      <th>1</th>\n",
       "      <td>2</td>\n",
       "      <td>Aesop/Laura Harris/Laura Gibbs</td>\n",
       "    </tr>\n",
       "    <tr>\n",
       "      <th>2</th>\n",
       "      <td>3</td>\n",
       "      <td>Agatha Christie</td>\n",
       "    </tr>\n",
       "    <tr>\n",
       "      <th>3</th>\n",
       "      <td>4</td>\n",
       "      <td>Alan Brennert</td>\n",
       "    </tr>\n",
       "    <tr>\n",
       "      <th>4</th>\n",
       "      <td>5</td>\n",
       "      <td>Alan Moore/David   Lloyd</td>\n",
       "    </tr>\n",
       "  </tbody>\n",
       "</table>\n",
       "</div>"
      ],
      "text/plain": [
       "   author_id                          author\n",
       "0          1                      A.S. Byatt\n",
       "1          2  Aesop/Laura Harris/Laura Gibbs\n",
       "2          3                 Agatha Christie\n",
       "3          4                   Alan Brennert\n",
       "4          5        Alan Moore/David   Lloyd"
      ]
     },
     "execution_count": 7,
     "metadata": {},
     "output_type": "execute_result"
    }
   ],
   "source": [
    "# Explorar la tabla 'authors'\n",
    "authors = explorar('authors')\n",
    "authors"
   ]
  },
  {
   "cell_type": "code",
   "execution_count": 8,
   "id": "cee5a4ac-53b2-4da1-a24d-c98ed1df3620",
   "metadata": {},
   "outputs": [
    {
     "data": {
      "text/html": [
       "<div>\n",
       "<style scoped>\n",
       "    .dataframe tbody tr th:only-of-type {\n",
       "        vertical-align: middle;\n",
       "    }\n",
       "\n",
       "    .dataframe tbody tr th {\n",
       "        vertical-align: top;\n",
       "    }\n",
       "\n",
       "    .dataframe thead th {\n",
       "        text-align: right;\n",
       "    }\n",
       "</style>\n",
       "<table border=\"1\" class=\"dataframe\">\n",
       "  <thead>\n",
       "    <tr style=\"text-align: right;\">\n",
       "      <th></th>\n",
       "      <th>publisher_id</th>\n",
       "      <th>publisher</th>\n",
       "    </tr>\n",
       "  </thead>\n",
       "  <tbody>\n",
       "    <tr>\n",
       "      <th>0</th>\n",
       "      <td>1</td>\n",
       "      <td>Ace</td>\n",
       "    </tr>\n",
       "    <tr>\n",
       "      <th>1</th>\n",
       "      <td>2</td>\n",
       "      <td>Ace Book</td>\n",
       "    </tr>\n",
       "    <tr>\n",
       "      <th>2</th>\n",
       "      <td>3</td>\n",
       "      <td>Ace Books</td>\n",
       "    </tr>\n",
       "    <tr>\n",
       "      <th>3</th>\n",
       "      <td>4</td>\n",
       "      <td>Ace Hardcover</td>\n",
       "    </tr>\n",
       "    <tr>\n",
       "      <th>4</th>\n",
       "      <td>5</td>\n",
       "      <td>Addison Wesley Publishing Company</td>\n",
       "    </tr>\n",
       "  </tbody>\n",
       "</table>\n",
       "</div>"
      ],
      "text/plain": [
       "   publisher_id                          publisher\n",
       "0             1                                Ace\n",
       "1             2                           Ace Book\n",
       "2             3                          Ace Books\n",
       "3             4                      Ace Hardcover\n",
       "4             5  Addison Wesley Publishing Company"
      ]
     },
     "execution_count": 8,
     "metadata": {},
     "output_type": "execute_result"
    }
   ],
   "source": [
    "# Explorar la tabla 'publishers'\n",
    "publishers = explorar('publishers')\n",
    "publishers"
   ]
  },
  {
   "cell_type": "code",
   "execution_count": 9,
   "id": "5ad86777-7816-4c9e-8235-f402eab049a6",
   "metadata": {},
   "outputs": [
    {
     "data": {
      "text/html": [
       "<div>\n",
       "<style scoped>\n",
       "    .dataframe tbody tr th:only-of-type {\n",
       "        vertical-align: middle;\n",
       "    }\n",
       "\n",
       "    .dataframe tbody tr th {\n",
       "        vertical-align: top;\n",
       "    }\n",
       "\n",
       "    .dataframe thead th {\n",
       "        text-align: right;\n",
       "    }\n",
       "</style>\n",
       "<table border=\"1\" class=\"dataframe\">\n",
       "  <thead>\n",
       "    <tr style=\"text-align: right;\">\n",
       "      <th></th>\n",
       "      <th>rating_id</th>\n",
       "      <th>book_id</th>\n",
       "      <th>username</th>\n",
       "      <th>rating</th>\n",
       "    </tr>\n",
       "  </thead>\n",
       "  <tbody>\n",
       "    <tr>\n",
       "      <th>0</th>\n",
       "      <td>1</td>\n",
       "      <td>1</td>\n",
       "      <td>ryanfranco</td>\n",
       "      <td>4</td>\n",
       "    </tr>\n",
       "    <tr>\n",
       "      <th>1</th>\n",
       "      <td>2</td>\n",
       "      <td>1</td>\n",
       "      <td>grantpatricia</td>\n",
       "      <td>2</td>\n",
       "    </tr>\n",
       "    <tr>\n",
       "      <th>2</th>\n",
       "      <td>3</td>\n",
       "      <td>1</td>\n",
       "      <td>brandtandrea</td>\n",
       "      <td>5</td>\n",
       "    </tr>\n",
       "    <tr>\n",
       "      <th>3</th>\n",
       "      <td>4</td>\n",
       "      <td>2</td>\n",
       "      <td>lorichen</td>\n",
       "      <td>3</td>\n",
       "    </tr>\n",
       "    <tr>\n",
       "      <th>4</th>\n",
       "      <td>5</td>\n",
       "      <td>2</td>\n",
       "      <td>mariokeller</td>\n",
       "      <td>2</td>\n",
       "    </tr>\n",
       "  </tbody>\n",
       "</table>\n",
       "</div>"
      ],
      "text/plain": [
       "   rating_id  book_id       username  rating\n",
       "0          1        1     ryanfranco       4\n",
       "1          2        1  grantpatricia       2\n",
       "2          3        1   brandtandrea       5\n",
       "3          4        2       lorichen       3\n",
       "4          5        2    mariokeller       2"
      ]
     },
     "execution_count": 9,
     "metadata": {},
     "output_type": "execute_result"
    }
   ],
   "source": [
    "# Explorar la tabla 'ratings'\n",
    "ratings = explorar('ratings')\n",
    "ratings"
   ]
  },
  {
   "cell_type": "code",
   "execution_count": 10,
   "id": "25393632-ba21-4137-bb27-7bc8db539d3e",
   "metadata": {},
   "outputs": [
    {
     "data": {
      "text/html": [
       "<div>\n",
       "<style scoped>\n",
       "    .dataframe tbody tr th:only-of-type {\n",
       "        vertical-align: middle;\n",
       "    }\n",
       "\n",
       "    .dataframe tbody tr th {\n",
       "        vertical-align: top;\n",
       "    }\n",
       "\n",
       "    .dataframe thead th {\n",
       "        text-align: right;\n",
       "    }\n",
       "</style>\n",
       "<table border=\"1\" class=\"dataframe\">\n",
       "  <thead>\n",
       "    <tr style=\"text-align: right;\">\n",
       "      <th></th>\n",
       "      <th>review_id</th>\n",
       "      <th>book_id</th>\n",
       "      <th>username</th>\n",
       "      <th>text</th>\n",
       "    </tr>\n",
       "  </thead>\n",
       "  <tbody>\n",
       "    <tr>\n",
       "      <th>0</th>\n",
       "      <td>1</td>\n",
       "      <td>1</td>\n",
       "      <td>brandtandrea</td>\n",
       "      <td>Mention society tell send professor analysis. ...</td>\n",
       "    </tr>\n",
       "    <tr>\n",
       "      <th>1</th>\n",
       "      <td>2</td>\n",
       "      <td>1</td>\n",
       "      <td>ryanfranco</td>\n",
       "      <td>Foot glass pretty audience hit themselves. Amo...</td>\n",
       "    </tr>\n",
       "    <tr>\n",
       "      <th>2</th>\n",
       "      <td>3</td>\n",
       "      <td>2</td>\n",
       "      <td>lorichen</td>\n",
       "      <td>Listen treat keep worry. Miss husband tax but ...</td>\n",
       "    </tr>\n",
       "    <tr>\n",
       "      <th>3</th>\n",
       "      <td>4</td>\n",
       "      <td>3</td>\n",
       "      <td>johnsonamanda</td>\n",
       "      <td>Finally month interesting blue could nature cu...</td>\n",
       "    </tr>\n",
       "    <tr>\n",
       "      <th>4</th>\n",
       "      <td>5</td>\n",
       "      <td>3</td>\n",
       "      <td>scotttamara</td>\n",
       "      <td>Nation purpose heavy give wait song will. List...</td>\n",
       "    </tr>\n",
       "  </tbody>\n",
       "</table>\n",
       "</div>"
      ],
      "text/plain": [
       "   review_id  book_id       username  \\\n",
       "0          1        1   brandtandrea   \n",
       "1          2        1     ryanfranco   \n",
       "2          3        2       lorichen   \n",
       "3          4        3  johnsonamanda   \n",
       "4          5        3    scotttamara   \n",
       "\n",
       "                                                text  \n",
       "0  Mention society tell send professor analysis. ...  \n",
       "1  Foot glass pretty audience hit themselves. Amo...  \n",
       "2  Listen treat keep worry. Miss husband tax but ...  \n",
       "3  Finally month interesting blue could nature cu...  \n",
       "4  Nation purpose heavy give wait song will. List...  "
      ]
     },
     "execution_count": 10,
     "metadata": {},
     "output_type": "execute_result"
    }
   ],
   "source": [
    "# Explorar la tabla 'reviews'\n",
    "reviews = explorar('reviews')\n",
    "reviews"
   ]
  },
  {
   "cell_type": "markdown",
   "id": "4c5e5624-7443-475b-9572-58c589b8f35f",
   "metadata": {},
   "source": [
    "### Encuentra el número de libros publicados después del 1 de enero de 2000."
   ]
  },
  {
   "cell_type": "code",
   "execution_count": 11,
   "id": "b0ec1be5-b4b8-4404-a24e-35337dd858ab",
   "metadata": {},
   "outputs": [
    {
     "name": "stdout",
     "output_type": "stream",
     "text": [
      "   num_books\n",
      "0        819\n"
     ]
    }
   ],
   "source": [
    "query_1 = \"\"\"\n",
    "SELECT COUNT(*) AS num_books\n",
    "FROM books\n",
    "WHERE publication_date > '2000-01-01';\n",
    "\"\"\"\n",
    "imprimir_resultados(query_1)"
   ]
  },
  {
   "cell_type": "markdown",
   "id": "f221f3f6-b900-44be-8aea-0af5ea5e4cf2",
   "metadata": {},
   "source": [
    "Se encontraron 819 libros publicados después del 1 de enero de 2000. Este resultado indica que una gran cantidad de libros en la base de datos fueron publicados en el siglo XXI. Esto sugiere que el servicio de libros analizado tiene una amplia colección de obras modernas, lo que podría ser atractivo para los usuarios interesados en literatura contemporánea. Además, refleja la tendencia de crecimiento en la industria editorial en las últimas dos décadas."
   ]
  },
  {
   "cell_type": "markdown",
   "id": "2c8a081e-922d-4cfe-aa1b-f406c50236fc",
   "metadata": {},
   "source": [
    "### Encuentra el número de reseñas de usuarios y la calificación promedio para cada libro."
   ]
  },
  {
   "cell_type": "code",
   "execution_count": 12,
   "id": "efe1a340-da2a-4cfa-a68f-648ef997a00a",
   "metadata": {},
   "outputs": [
    {
     "name": "stdout",
     "output_type": "stream",
     "text": [
      "     book_id                                              title  num_reviews  \\\n",
      "0        652          The Body in the Library (Miss Marple  #3)            4   \n",
      "1        273                                          Galápagos            4   \n",
      "2         51                           A Tree Grows in Brooklyn           60   \n",
      "3        951  Undaunted Courage: The Pioneering First Missio...            4   \n",
      "4        839                                        The Prophet           28   \n",
      "..       ...                                                ...          ...   \n",
      "995       64                                Alice in Wonderland           52   \n",
      "996       55          A Woman of Substance (Emma Harte Saga #1)            4   \n",
      "997      148                                          Christine           21   \n",
      "998      790  The Magicians' Guild (Black Magician Trilogy  #1)            4   \n",
      "999      828                           The Plot Against America            4   \n",
      "\n",
      "     avg_rating  \n",
      "0      4.500000  \n",
      "1      4.500000  \n",
      "2      4.250000  \n",
      "3      4.000000  \n",
      "4      4.285714  \n",
      "..          ...  \n",
      "995    4.230769  \n",
      "996    5.000000  \n",
      "997    3.428571  \n",
      "998    3.500000  \n",
      "999    3.000000  \n",
      "\n",
      "[1000 rows x 4 columns]\n"
     ]
    }
   ],
   "source": [
    "query_2 = \"\"\"\n",
    "SELECT \n",
    "    b.book_id,\n",
    "    b.title,\n",
    "    COUNT(r.review_id) AS num_reviews,\n",
    "    AVG(rt.rating) AS avg_rating\n",
    "FROM books b\n",
    "LEFT JOIN reviews r ON b.book_id = r.book_id\n",
    "LEFT JOIN ratings rt ON b.book_id = rt.book_id\n",
    "GROUP BY b.book_id, b.title;\n",
    "\"\"\"\n",
    "imprimir_resultados(query_2)"
   ]
  },
  {
   "cell_type": "markdown",
   "id": "3048a3af-71d5-4aa7-aed4-1b8de12c4604",
   "metadata": {},
   "source": [
    "Se obtuvieron 1000 libros con su respectivo número de reseñas y calificación promedio. Por ejemplo, el libro \"A Tree Grows in Brooklyn\" tiene 60 reseñas y una calificación promedio de 4.25.\n",
    "Esta consulta permite identificar qué libros son más populares y mejor valorados por los usuarios. Los libros con un mayor número de reseñas y una alta calificación promedio son candidatos ideales para ser promocionados o recomendados a nuevos usuarios. Además, esta información puede ser útil para entender qué tipo de contenido resuena más con la audiencia."
   ]
  },
  {
   "cell_type": "markdown",
   "id": "f2e41802-c489-4d3d-920a-12394a9bff2d",
   "metadata": {},
   "source": [
    "### Identifica la editorial que ha publicado el mayor número de libros con más de 50 páginas (esto te ayudará a excluir folletos y publicaciones similares de tu análisis)."
   ]
  },
  {
   "cell_type": "code",
   "execution_count": 13,
   "id": "db347ada-f122-4190-9e6b-2b3fb74e3b4b",
   "metadata": {},
   "outputs": [
    {
     "name": "stdout",
     "output_type": "stream",
     "text": [
      "                  publisher  publisher_id  num_books\n",
      "0             Penguin Books           212         42\n",
      "1                   Vintage           309         31\n",
      "2  Grand Central Publishing           116         25\n",
      "3          Penguin Classics           217         24\n",
      "4          Ballantine Books            33         19\n",
      "5                    Bantam            35         19\n",
      "6                   Berkley            45         17\n",
      "7        St. Martin's Press           284         14\n",
      "8             Berkley Books            46         14\n",
      "9                     Delta            83         13\n"
     ]
    }
   ],
   "source": [
    "query_3 = \"\"\"\n",
    "SELECT \n",
    "    publishers.publisher,\n",
    "    publishers.publisher_id,\n",
    "    COUNT(books.book_id) AS num_books\n",
    "FROM\n",
    "    publishers\n",
    "JOIN \n",
    "    books\n",
    "ON \n",
    "    publishers.publisher_id = books.publisher_id\n",
    "WHERE \n",
    "    books.num_pages > 50\n",
    "GROUP BY \n",
    "    publishers.publisher,\n",
    "    publishers.publisher_id\n",
    "ORDER BY\n",
    "    num_books DESC\n",
    "LIMIT\n",
    "    10;\n",
    "\"\"\"\n",
    "imprimir_resultados(query_3)"
   ]
  },
  {
   "cell_type": "markdown",
   "id": "dff57544-484b-4e65-b005-d4235594b91d",
   "metadata": {},
   "source": [
    "La editorial \"Penguin Books\" es la que ha publicado más libros con más de 50 páginas, con un total de 42 libros. \"Penguin Books\" es la editorial más activa en la publicación de libros. Esto la posiciona como una editorial líder en el mercado y sugiere que sus obras podrían ser un buen punto de partida para colaboraciones o promociones. Además, esta información es útil para enfocar esfuerzos en editoriales que producen contenido de mayor extensión y, presumiblemente, de mayor valor para los lectores."
   ]
  },
  {
   "cell_type": "markdown",
   "id": "2e796af4-b1d6-43af-a4dd-1f03269b2496",
   "metadata": {},
   "source": [
    "### Identifica al autor que tiene la más alta calificación promedio del libro: mira solo los libros con al menos 50 calificaciones."
   ]
  },
  {
   "cell_type": "code",
   "execution_count": 14,
   "id": "98ed1ab9-6912-4bd7-9bed-730686e8a3b2",
   "metadata": {},
   "outputs": [
    {
     "name": "stdout",
     "output_type": "stream",
     "text": [
      "                              author  author_id  num_reviews  avg_rating\n",
      "0                     Diana Gabaldon        130           50    4.300000\n",
      "1         J.K. Rowling/Mary GrandPré        236          312    4.288462\n",
      "2                    Agatha Christie          3           53    4.283019\n",
      "3  Markus Zusak/Cao Xuân Việt Khương        402           53    4.264151\n",
      "4                     J.R.R. Tolkien        240          166    4.240964\n",
      "5           Roald Dahl/Quentin Blake        499           62    4.209677\n",
      "6                  Louisa May Alcott        376           54    4.203704\n",
      "7                       Rick Riordan        498           84    4.130952\n",
      "8                      Arthur Golden         39           56    4.107143\n",
      "9                       Stephen King        542          106    4.009434\n"
     ]
    }
   ],
   "source": [
    "query_4 = \"\"\"\n",
    "SELECT \n",
    "    authors.author,\n",
    "    authors.author_id,\n",
    "    COUNT(ratings.rating) AS num_reviews,\n",
    "    AVG(ratings.rating) AS avg_rating\n",
    "FROM\n",
    "    authors\n",
    "JOIN \n",
    "    books ON authors.author_id = books.author_id\n",
    "JOIN \n",
    "    ratings ON books.book_id = ratings.book_id\n",
    "GROUP BY\n",
    "    authors.author,\n",
    "    authors.author_id\n",
    "HAVING \n",
    "    COUNT(ratings.rating) >= 50\n",
    "ORDER BY \n",
    "    avg_rating DESC\n",
    "LIMIT 10 ;\n",
    "\"\"\"\n",
    "imprimir_resultados(query_4)"
   ]
  },
  {
   "cell_type": "markdown",
   "id": "116c7a7f-9692-44ae-a0aa-34ac3dae5b4c",
   "metadata": {},
   "source": [
    "El autor con la más alta calificación promedio es Diana Gabaldon, con una calificación promedio de 4.30 en 50 reseñas. Diana Gabaldon es el autor más valorado por los lectores, considerando solo libros con al menos 50 calificaciones. Esto indica que sus obras tienen una alta aceptación entre los usuarios y podrían ser un buen punto de partida para recomendaciones o promociones. Además, este análisis resalta la importancia de considerar solo libros con un número significativo de calificaciones para evitar sesgos en los resultados."
   ]
  },
  {
   "cell_type": "markdown",
   "id": "5b1b5aba-cc8a-4fcc-ad4a-f16fc0d3886f",
   "metadata": {},
   "source": [
    "### Encuentra el número promedio de reseñas de texto entre los usuarios que calificaron más de 50 libros."
   ]
  },
  {
   "cell_type": "code",
   "execution_count": 15,
   "id": "9549fe99-9ea6-4d4a-9870-8233ce193039",
   "metadata": {},
   "outputs": [
    {
     "name": "stdout",
     "output_type": "stream",
     "text": [
      "   avg_reviews_text\n",
      "0         24.333333\n"
     ]
    }
   ],
   "source": [
    "query_5 = \"\"\"\n",
    "SELECT\n",
    "    AVG(reviews_count) AS avg_reviews_text\n",
    "FROM (\n",
    "    SELECT \n",
    "        ratings.username,\n",
    "        COUNT(DISTINCT reviews.review_id) AS reviews_count\n",
    "    FROM\n",
    "        reviews\n",
    "    JOIN \n",
    "        ratings ON reviews.username = ratings.username \n",
    "    GROUP BY\n",
    "        ratings.username\n",
    "    HAVING\n",
    "        COUNT(DISTINCT ratings.rating_id) > 50\n",
    ") user_many_review;\n",
    "\"\"\"\n",
    "imprimir_resultados(query_5)"
   ]
  },
  {
   "cell_type": "markdown",
   "id": "0142c410-4b14-48dd-8da3-eedf4665cefa",
   "metadata": {},
   "source": [
    "El número promedio de reseñas de texto entre los usuarios que calificaron más de 50 libros es de 24.33. Los usuarios más activos (aquellos que calificaron más de 50 libros) tienden a escribir un promedio de 24 reseñas de texto. Esto sugiere que estos usuarios no solo califican libros, sino que también contribuyen con reseñas escritas, lo que puede ser valioso para otros lectores. Este comportamiento indica que los usuarios más comprometidos son una fuente importante de contenido generado por los usuarios, lo que puede ser útil para mejorar la experiencia de otros lectores y fomentar la participación en la plataforma."
   ]
  }
 ],
 "metadata": {
  "ExecuteTimeLog": [
   {
    "duration": 7,
    "start_time": "2025-03-15T14:29:26.680Z"
   },
   {
    "duration": 405,
    "start_time": "2025-03-15T14:29:26.690Z"
   },
   {
    "duration": 2376,
    "start_time": "2025-03-15T14:29:27.097Z"
   },
   {
    "duration": 3,
    "start_time": "2025-03-15T14:29:29.476Z"
   },
   {
    "duration": 3,
    "start_time": "2025-03-15T14:29:29.481Z"
   },
   {
    "duration": 795,
    "start_time": "2025-03-15T14:29:29.486Z"
   },
   {
    "duration": 788,
    "start_time": "2025-03-15T14:29:30.283Z"
   },
   {
    "duration": 790,
    "start_time": "2025-03-15T14:29:31.073Z"
   },
   {
    "duration": 791,
    "start_time": "2025-03-15T14:29:31.865Z"
   },
   {
    "duration": 790,
    "start_time": "2025-03-15T14:29:32.659Z"
   },
   {
    "duration": 790,
    "start_time": "2025-03-15T14:29:33.451Z"
   },
   {
    "duration": 1060,
    "start_time": "2025-03-15T14:29:34.243Z"
   },
   {
    "duration": 791,
    "start_time": "2025-03-15T14:29:35.305Z"
   },
   {
    "duration": 793,
    "start_time": "2025-03-15T14:29:36.098Z"
   },
   {
    "duration": 823,
    "start_time": "2025-03-15T14:29:36.892Z"
   },
   {
    "duration": 6,
    "start_time": "2025-03-15T14:35:29.600Z"
   }
  ],
  "kernelspec": {
   "display_name": "Python 3 (ipykernel)",
   "language": "python",
   "name": "python3"
  },
  "language_info": {
   "codemirror_mode": {
    "name": "ipython",
    "version": 3
   },
   "file_extension": ".py",
   "mimetype": "text/x-python",
   "name": "python",
   "nbconvert_exporter": "python",
   "pygments_lexer": "ipython3",
   "version": "3.12.2"
  },
  "toc": {
   "base_numbering": 1,
   "nav_menu": {},
   "number_sections": true,
   "sideBar": true,
   "skip_h1_title": true,
   "title_cell": "Table of Contents",
   "title_sidebar": "Contents",
   "toc_cell": false,
   "toc_position": {},
   "toc_section_display": true,
   "toc_window_display": false
  }
 },
 "nbformat": 4,
 "nbformat_minor": 5
}
